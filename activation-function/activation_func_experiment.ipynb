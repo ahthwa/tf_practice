{
 "cells": [
  {
   "cell_type": "markdown",
   "metadata": {},
   "source": [
    "# Activation function 비교 실험\n",
    "\n",
    "hidden layer의 activation function이 hypothesis의 형태를 어떻게 변화시키는지 확인하기 위한 예제.\n",
    "어떤 과목 수강생의 학습 시간과 pass/fail여부 데이터를 학습하여 학습시간에 따른 pass/fail 예측 모형을 만든다.\n",
    "\n",
    "activation function로 ReLU, sigmoid, tanh를 사용하여 그 예측 성능을 비교하고\n",
    "만들어진 모델의 hypothesis를 2차원 시각화 하여 activation fuction에 따라 decision surface가 어떻게 형성되는지를 살펴보고자 한다."
   ]
  },
  {
   "cell_type": "code",
   "execution_count": 1,
   "metadata": {
    "collapsed": true
   },
   "outputs": [],
   "source": [
    "import tensorflow as tf\n",
    "import numpy as np"
   ]
  },
  {
   "cell_type": "code",
   "execution_count": 2,
   "metadata": {
    "collapsed": false
   },
   "outputs": [],
   "source": [
    "data = np.array([[2., 0.], [3., 0.], [4., 0.], [5., 1.], [7., 0.], [8., 1.], [9., 1.]], dtype=np.float32)\n",
    "x = data[:,0]\n",
    "y = data[:,1]"
   ]
  },
  {
   "cell_type": "code",
   "execution_count": 3,
   "metadata": {
    "collapsed": true
   },
   "outputs": [],
   "source": [
    "def xavier_init(n_inputs, n_outputs, uniform=True):\n",
    "    if uniform:\n",
    "        init_range = tf.sqrt(6.0 / (n_inputs + n_outputs))\n",
    "        return tf.random_uniform_initializer(-init_range, init_range)\n",
    "    else:\n",
    "        stddev = tf.sqrt(3.0 / (n_inputs + n_outputs))\n",
    "        return tf.truncated_normal_initializer(stddev = stddev)"
   ]
  },
  {
   "cell_type": "code",
   "execution_count": 4,
   "metadata": {
    "collapsed": false,
    "scrolled": false
   },
   "outputs": [],
   "source": [
    "l1_in = 1\n",
    "l1_out = 4\n",
    "l2_out = 4\n",
    "l3_out = 1\n",
    "init_min = -1.0\n",
    "init_max = 1.0\n",
    "\n",
    "with tf.name_scope('model'):\n",
    "    X = tf.placeholder(dtype=tf.float32, name = 'input')\n",
    "    Y = tf.placeholder(dtype=tf.float32, name = 'target')\n",
    "    with tf.name_scope('hidden1'):\n",
    "        i1 = tf.reshape(X, [1,-1])\n",
    "        W1 = tf.get_variable(\"w_l1\", shape=[l1_out, l1_in], initializer = xavier_init(l1_in, l1_out))\n",
    "        b1 = tf.get_variable(\"b_l1\", shape=[l1_out, ], initializer = xavier_init(l1_out, l1_out))\n",
    "        #W1 = tf.Variable(tf.random_uniform([l1_fs, 1], init_min, init_max), dtype=tf.float32, name = 'w_l1')\n",
    "        #b1 = tf.Variable(tf.random_uniform([l1_fs,], init_min, init_max), dtype=tf.float32, name = 'b_l1')\n",
    "        b1 = tf.reshape(b1, [l1_out, -1])\n",
    "        #l1 = tf.nn.relu(tf.matmul(W1, i1) + b1, name = 'o_l1')\n",
    "        #l1 = tf.nn.sigmoid(tf.matmul(W1, i1) + b1, name = 'o_l1')\n",
    "        l1 = tf.nn.tanh(tf.matmul(W1, i1) + b1, name = 'o_l1')\n",
    "    with tf.name_scope('hidden2'):\n",
    "        W2 = tf.get_variable(\"w_l2\", shape=[l2_out, l1_out], initializer = xavier_init(l1_out, l2_out))\n",
    "        b2 = tf.get_variable(\"b_l2\", shape=[l2_out, ], initializer = xavier_init(l2_out, l2_out))\n",
    "        #W2 = tf.Variable(tf.random_uniform([1, l1_fs], init_min, init_max), dtype=tf.float32, name = 'w_l2')\n",
    "        #b2 = tf.Variable(tf.random_uniform([1], init_min, init_max), dtype=tf.float32, name = 'b_l2')\n",
    "        b2 = tf.reshape(b2, [l2_out, -1])\n",
    "        #l2 = tf.nn.relu(tf.matmul(W2, l1) + b2, name = 'o_l2')\n",
    "        #l2 = tf.nn.sigmoid(tf.matmul(W2, l1) + b2, name = 'o_l2')\n",
    "        l2 = tf.nn.tanh(tf.matmul(W2, l1) + b2, name = 'o_l2')\n",
    "    with tf.name_scope('hidden3'):\n",
    "        W3 = tf.get_variable(\"w_l3\", shape=[l3_out, l2_out], initializer = xavier_init(l2_out, l3_out))\n",
    "        b3 = tf.get_variable(\"b_l3\", shape=[l3_out, ], initializer = xavier_init(l3_out, l3_out))\n",
    "        l3 = tf.matmul(W3, l2) + b3\n",
    "    with tf.name_scope('output'):\n",
    "        output = tf.nn.sigmoid(l3)\n",
    "        predict = tf.round(output)"
   ]
  },
  {
   "cell_type": "code",
   "execution_count": 5,
   "metadata": {
    "collapsed": false
   },
   "outputs": [],
   "source": [
    "with tf.name_scope('eval'):\n",
    "    loss = tf.reduce_mean(tf.nn.sigmoid_cross_entropy_with_logits(l3, Y, name = 'loss'))\n",
    "    #loss = -tf.reduce_mean(tf.reduce_sum(Y * tf.log(y_) + (1-Y) * tf.log(1-y_)))\n",
    "    opt = tf.train.GradientDescentOptimizer(learning_rate=0.1)\n",
    "    train = opt.minimize(loss)\n",
    "    tf.summary.scalar('loss', loss)"
   ]
  },
  {
   "cell_type": "code",
   "execution_count": 6,
   "metadata": {
    "collapsed": true
   },
   "outputs": [],
   "source": [
    "%rm -rf log_dir"
   ]
  },
  {
   "cell_type": "code",
   "execution_count": 7,
   "metadata": {
    "collapsed": true
   },
   "outputs": [],
   "source": [
    "writer = tf.summary.FileWriter(\"log_dir\")\n",
    "summary_op = tf.summary.merge_all()\n",
    "\n",
    "sess = tf.InteractiveSession()\n",
    "sess.run(tf.global_variables_initializer())\n",
    "writer.add_graph(sess.graph)"
   ]
  },
  {
   "cell_type": "code",
   "execution_count": 8,
   "metadata": {
    "collapsed": false,
    "scrolled": false
   },
   "outputs": [
    {
     "name": "stdout",
     "output_type": "stream",
     "text": [
      "step: 0 loss: 0.703121\n",
      "step: 1000 loss: 0.355473\n",
      "step: 2000 loss: 0.329898\n",
      "step: 3000 loss: 0.324326\n",
      "step: 4000 loss: 0.309684\n",
      "step: 5000 loss: 0.287422\n",
      "step: 6000 loss: 0.280281\n",
      "step: 7000 loss: 0.277539\n",
      "step: 8000 loss: 0.276221\n",
      "step: 9000 loss: 0.275466\n",
      "step: 10000 loss: 0.274981\n",
      "step: 11000 loss: 0.274643\n",
      "step: 12000 loss: 0.274396\n",
      "step: 13000 loss: 0.274206\n",
      "step: 14000 loss: 0.274056\n",
      "step: 15000 loss: 0.273935\n",
      "step: 16000 loss: 0.273835\n",
      "step: 17000 loss: 0.273751\n",
      "step: 18000 loss: 0.27368\n",
      "step: 19000 loss: 0.273618\n",
      "step: 20000 loss: 0.273564\n",
      "step: 21000 loss: 0.273517\n",
      "step: 22000 loss: 0.273475\n",
      "step: 23000 loss: 0.273438\n",
      "step: 24000 loss: 0.273405\n",
      "step: 25000 loss: 0.273375\n",
      "step: 26000 loss: 0.273347\n",
      "step: 27000 loss: 0.273322\n",
      "step: 28000 loss: 0.2733\n",
      "step: 29000 loss: 0.273279\n",
      "step: 30000 loss: 0.27326\n",
      "step: 31000 loss: 0.273242\n",
      "step: 32000 loss: 0.273225\n",
      "step: 33000 loss: 0.27321\n",
      "step: 34000 loss: 0.273196\n",
      "step: 35000 loss: 0.273182\n",
      "step: 36000 loss: 0.27317\n",
      "step: 37000 loss: 0.273158\n",
      "step: 38000 loss: 0.273147\n",
      "step: 39000 loss: 0.273136\n",
      "step: 40000 loss: 0.273127\n",
      "step: 41000 loss: 0.273117\n",
      "step: 42000 loss: 0.273108\n",
      "step: 43000 loss: 0.2731\n",
      "step: 44000 loss: 0.273092\n",
      "step: 45000 loss: 0.273085\n",
      "step: 46000 loss: 0.273078\n",
      "step: 47000 loss: 0.273071\n",
      "step: 48000 loss: 0.273064\n",
      "step: 49000 loss: 0.273058\n",
      "w1 [[ 1.01152432]\n",
      " [ 0.8506006 ]\n",
      " [-0.65756071]\n",
      " [-1.03517556]] b1 [[ 0.44408846]\n",
      " [ 0.76119655]\n",
      " [ 2.83535147]\n",
      " [ 5.40191221]] w2 [[-0.19757496 -0.92226344 -1.50999725 -4.21829987]\n",
      " [-0.82812345 -0.22329669  2.25875044  3.2550571 ]\n",
      " [-0.88733846 -0.59530324  1.90860069  3.42608857]\n",
      " [-1.16083527 -0.81911355  0.40999588  0.49459177]] b2 [[ 0.02889231]\n",
      " [-0.61218894]\n",
      " [-0.31872851]\n",
      " [-1.0766753 ]]\n"
     ]
    }
   ],
   "source": [
    "for step in range(50000):\n",
    "    summary_val, loss_val, _ = sess.run([summary_op, loss, train], feed_dict={X:x, Y:y})\n",
    "    '''\n",
    "    w1_val, b1_val, l1_val, w2_val, b2_val, l2_val, summary_val, loss_val, _ = sess.run([W1, b1, l1, W2, b2, l2, summary_op, loss, train], feed_dict={X:x, Y:y})\n",
    "    print(w1_val)\n",
    "    print(b1_val)\n",
    "    print(l1_val)\n",
    "    print(w2_val)\n",
    "    print(b2_val)\n",
    "    print('l2')\n",
    "    print(l2_val)\n",
    "    print('true_value')\n",
    "    print(y)\n",
    "    print(loss_val)\n",
    "    print('---')\n",
    "    '''\n",
    "    \n",
    "    writer.add_summary(summary_val, step)\n",
    "    if (step % 1000 == 0):\n",
    "        print('step:', step, 'loss:', loss_val)\n",
    "w1_val, b1_val, w2_val, b2_val = sess.run([W1, b1, W2, b2])\n",
    "print('w1', w1_val, 'b1', b1_val, 'w2', w2_val, 'b2', b2_val)"
   ]
  },
  {
   "cell_type": "code",
   "execution_count": 9,
   "metadata": {
    "collapsed": false
   },
   "outputs": [
    {
     "name": "stdout",
     "output_type": "stream",
     "text": [
      "[[  1.44811143e-04   1.47187777e-04   9.99168634e-01   6.66969240e-01\n",
      "    6.66842520e-01]]\n",
      "[[ 0.  0.  1.  1.  1.]]\n"
     ]
    }
   ],
   "source": [
    "print(sess.run(output, feed_dict={X:[2.0, 3.0, 5.0, 7.0, 8.0]}))\n",
    "print(sess.run(predict, feed_dict={X:[2.0, 3.0, 5.0, 7.0, 8.0]}))"
   ]
  },
  {
   "cell_type": "code",
   "execution_count": null,
   "metadata": {
    "collapsed": true
   },
   "outputs": [],
   "source": [
    "sess.close()"
   ]
  },
  {
   "cell_type": "code",
   "execution_count": null,
   "metadata": {
    "collapsed": false
   },
   "outputs": [],
   "source": [
    "#!tensorboard --log=log_dir"
   ]
  },
  {
   "cell_type": "code",
   "execution_count": null,
   "metadata": {
    "collapsed": true
   },
   "outputs": [],
   "source": [
    "tf.reset_default_graph()"
   ]
  },
  {
   "cell_type": "code",
   "execution_count": null,
   "metadata": {
    "collapsed": true
   },
   "outputs": [],
   "source": []
  }
 ],
 "metadata": {
  "kernelspec": {
   "display_name": "Python 3",
   "language": "python",
   "name": "python3"
  },
  "language_info": {
   "codemirror_mode": {
    "name": "ipython",
    "version": 3
   },
   "file_extension": ".py",
   "mimetype": "text/x-python",
   "name": "python",
   "nbconvert_exporter": "python",
   "pygments_lexer": "ipython3",
   "version": "3.5.1"
  }
 },
 "nbformat": 4,
 "nbformat_minor": 0
}
