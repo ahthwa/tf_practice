{
 "cells": [
  {
   "cell_type": "markdown",
   "metadata": {},
   "source": [
    "# Activation function 비교 실험\n",
    "\n",
    "hidden layer의 activation function이 hypothesis의 형태를 어떻게 변화시키는지 확인하기 위한 예제.\n",
    "어떤 과목 수강생의 학습 시간과 pass/fail여부 데이터를 학습하여 학습시간에 따른 pass/fail 예측 모형을 만든다.\n",
    "\n",
    "activation function로 ReLU, sigmoid, tanh를 사용하여 그 예측 성능을 비교하고\n",
    "만들어진 모델의 hypothesis를 2차원 시각화 하여 activation fuction에 따라 decision surface가 어떻게 형성되는지를 살펴보고자 한다."
   ]
  },
  {
   "cell_type": "code",
   "execution_count": null,
   "metadata": {
    "collapsed": true
   },
   "outputs": [],
   "source": [
    "import tensorflow as tf\n",
    "import numpy as np"
   ]
  },
  {
   "cell_type": "code",
   "execution_count": null,
   "metadata": {
    "collapsed": false
   },
   "outputs": [],
   "source": [
    "data = np.array([[2., 0.], [3., 0.], [4., 0.], [5., 1.], [7., 0.], [8., 1.], [9., 1.]], dtype=np.float32)\n",
    "x = data[:,0]\n",
    "y = data[:,1]"
   ]
  },
  {
   "cell_type": "code",
   "execution_count": null,
   "metadata": {
    "collapsed": true
   },
   "outputs": [],
   "source": [
    "def xavier_init(n_inputs, n_outputs, uniform=True):\n",
    "    if uniform:\n",
    "        init_range = tf.sqrt(6.0 / (n_inputs + n_outputs))\n",
    "        return tf.random_uniform_initializer(-init_range, init_range)\n",
    "    else:\n",
    "        stddev = tf.sqrt(3.0 / (n_inputs + n_outputs))\n",
    "        return tf.truncated_normal_initializer(stddev = stddev)"
   ]
  },
  {
   "cell_type": "code",
   "execution_count": null,
   "metadata": {
    "collapsed": false,
    "scrolled": false
   },
   "outputs": [],
   "source": [
    "l1_in = 1\n",
    "l1_out = 4\n",
    "l2_out = 4\n",
    "l3_out = 1\n",
    "init_min = -1.0\n",
    "init_max = 1.0\n",
    "\n",
    "with tf.name_scope('model'):\n",
    "    X = tf.placeholder(dtype=tf.float32, name = 'input')\n",
    "    Y = tf.placeholder(dtype=tf.float32, name = 'target')\n",
    "    with tf.name_scope('hidden1'):\n",
    "        i1 = tf.reshape(X, [1,-1])\n",
    "        W1 = tf.get_variable(\"w_l1\", shape=[l1_out, l1_in], initializer = xavier_init(l1_in, l1_out))\n",
    "        b1 = tf.get_variable(\"b_l1\", shape=[l1_out, ], initializer = xavier_init(l1_out, l1_out))\n",
    "        #W1 = tf.Variable(tf.random_uniform([l1_fs, 1], init_min, init_max), dtype=tf.float32, name = 'w_l1')\n",
    "        #b1 = tf.Variable(tf.random_uniform([l1_fs,], init_min, init_max), dtype=tf.float32, name = 'b_l1')\n",
    "        b1 = tf.reshape(b1, [l1_out, -1])\n",
    "        #l1 = tf.nn.relu(tf.matmul(W1, i1) + b1, name = 'o_l1')\n",
    "        #l1 = tf.nn.sigmoid(tf.matmul(W1, i1) + b1, name = 'o_l1')\n",
    "        l1 = tf.nn.tanh(tf.matmul(W1, i1) + b1, name = 'o_l1')\n",
    "    with tf.name_scope('hidden2'):\n",
    "        W2 = tf.get_variable(\"w_l2\", shape=[l2_out, l1_out], initializer = xavier_init(l1_out, l2_out))\n",
    "        b2 = tf.get_variable(\"b_l2\", shape=[l2_out, ], initializer = xavier_init(l2_out, l2_out))\n",
    "        #W2 = tf.Variable(tf.random_uniform([1, l1_fs], init_min, init_max), dtype=tf.float32, name = 'w_l2')\n",
    "        #b2 = tf.Variable(tf.random_uniform([1], init_min, init_max), dtype=tf.float32, name = 'b_l2')\n",
    "        b2 = tf.reshape(b2, [l2_out, -1])\n",
    "        #l2 = tf.nn.relu(tf.matmul(W2, l1) + b2, name = 'o_l2')\n",
    "        #l2 = tf.nn.sigmoid(tf.matmul(W2, l1) + b2, name = 'o_l2')\n",
    "        l2 = tf.nn.tanh(tf.matmul(W2, l1) + b2, name = 'o_l2')\n",
    "    with tf.name_scope('hidden3'):\n",
    "        W3 = tf.get_variable(\"w_l3\", shape=[l3_out, l2_out], initializer = xavier_init(l2_out, l3_out))\n",
    "        b3 = tf.get_variable(\"b_l3\", shape=[l3_out, ], initializer = xavier_init(l3_out, l3_out))\n",
    "        l3 = tf.matmul(W3, l2) + b3\n",
    "    with tf.name_scope('output'):\n",
    "        output = tf.nn.sigmoid(l3)\n",
    "        predict = tf.round(output)"
   ]
  },
  {
   "cell_type": "code",
   "execution_count": null,
   "metadata": {
    "collapsed": false
   },
   "outputs": [],
   "source": [
    "with tf.name_scope('eval'):\n",
    "    loss = tf.reduce_mean(tf.nn.sigmoid_cross_entropy_with_logits(logits = l3, labels = Y, name = 'loss'))\n",
    "    #loss = -tf.reduce_mean(tf.reduce_sum(Y * tf.log(y_) + (1-Y) * tf.log(1-y_)))\n",
    "    opt = tf.train.GradientDescentOptimizer(learning_rate=0.1)\n",
    "    train = opt.minimize(loss)\n",
    "    tf.summary.scalar('loss', loss)"
   ]
  },
  {
   "cell_type": "code",
   "execution_count": null,
   "metadata": {
    "collapsed": true
   },
   "outputs": [],
   "source": [
    "%rm -rf log_dir"
   ]
  },
  {
   "cell_type": "code",
   "execution_count": null,
   "metadata": {
    "collapsed": true
   },
   "outputs": [],
   "source": [
    "writer = tf.summary.FileWriter(\"log_dir\")\n",
    "summary_op = tf.summary.merge_all()\n",
    "\n",
    "sess = tf.InteractiveSession()\n",
    "sess.run(tf.global_variables_initializer())\n",
    "writer.add_graph(sess.graph)"
   ]
  },
  {
   "cell_type": "code",
   "execution_count": null,
   "metadata": {
    "collapsed": false,
    "scrolled": false
   },
   "outputs": [],
   "source": [
    "for step in range(50000):\n",
    "    summary_val, loss_val, _ = sess.run([summary_op, loss, train], feed_dict={X:x, Y:y})\n",
    "    '''\n",
    "    w1_val, b1_val, l1_val, w2_val, b2_val, l2_val, summary_val, loss_val, _ = sess.run([W1, b1, l1, W2, b2, l2, summary_op, loss, train], feed_dict={X:x, Y:y})\n",
    "    print(w1_val)\n",
    "    print(b1_val)\n",
    "    print(l1_val)\n",
    "    print(w2_val)\n",
    "    print(b2_val)\n",
    "    print('l2')\n",
    "    print(l2_val)\n",
    "    print('true_value')\n",
    "    print(y)\n",
    "    print(loss_val)\n",
    "    print('---')\n",
    "    '''\n",
    "    \n",
    "    writer.add_summary(summary_val, step)\n",
    "    if (step % 1000 == 0):\n",
    "        print('step:', step, 'loss:', loss_val)\n",
    "w1_val, b1_val, w2_val, b2_val = sess.run([W1, b1, W2, b2])\n",
    "print('w1', w1_val, 'b1', b1_val, 'w2', w2_val, 'b2', b2_val)"
   ]
  },
  {
   "cell_type": "code",
   "execution_count": null,
   "metadata": {
    "collapsed": false
   },
   "outputs": [],
   "source": [
    "print(sess.run(output, feed_dict={X:[2.0, 3.0, 5.0, 7.0, 8.0]}))\n",
    "print(sess.run(predict, feed_dict={X:[2.0, 3.0, 5.0, 7.0, 8.0]}))"
   ]
  },
  {
   "cell_type": "code",
   "execution_count": null,
   "metadata": {
    "collapsed": true
   },
   "outputs": [],
   "source": [
    "sess.close()"
   ]
  },
  {
   "cell_type": "code",
   "execution_count": null,
   "metadata": {
    "collapsed": false
   },
   "outputs": [],
   "source": [
    "#!tensorboard --log=log_dir"
   ]
  },
  {
   "cell_type": "code",
   "execution_count": null,
   "metadata": {
    "collapsed": true
   },
   "outputs": [],
   "source": [
    "tf.reset_default_graph()"
   ]
  },
  {
   "cell_type": "code",
   "execution_count": null,
   "metadata": {
    "collapsed": true
   },
   "outputs": [],
   "source": []
  }
 ],
 "metadata": {
  "kernelspec": {
   "display_name": "Python 3",
   "language": "python",
   "name": "python3"
  },
  "language_info": {
   "codemirror_mode": {
    "name": "ipython",
    "version": 3
   },
   "file_extension": ".py",
   "mimetype": "text/x-python",
   "name": "python",
   "nbconvert_exporter": "python",
   "pygments_lexer": "ipython3",
   "version": "3.5.1"
  }
 },
 "nbformat": 4,
 "nbformat_minor": 0
}
