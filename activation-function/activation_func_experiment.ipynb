{
 "cells": [
  {
   "cell_type": "markdown",
   "metadata": {},
   "source": [
    "# Activation function 비교 실험\n",
    "\n",
    "hidden layer의 activation function이 hypothesis의 형태를 어떻게 변화시키는지 확인하기 위한 예제.\n",
    "어떤 과목 수강생의 학습 시간과 pass/fail여부 데이터를 학습하여 학습시간에 따른 pass/fail 예측 모형을 만든다.\n",
    "\n",
    "activation function로 ReLU, sigmoid, tanh를 사용하여 그 예측 성능을 비교하고\n",
    "만들어진 모델의 hypothesis를 시각화 하여 activation fuction에 따라 decision surface가 어떻게 형성되는지를 살펴보고자 한다."
   ]
  },
  {
   "cell_type": "code",
   "execution_count": null,
   "metadata": {
    "collapsed": true
   },
   "outputs": [],
   "source": [
    "import tensorflow as tf\n",
    "import numpy as np"
   ]
  },
  {
   "cell_type": "code",
   "execution_count": null,
   "metadata": {
    "collapsed": false
   },
   "outputs": [],
   "source": [
    "# test for XOR\n",
    "data = np.array([[0., 0., 0.], [1., 0., 1.], [0., 1., 1.], [1., 1., 0.]], dtype=np.float32)\n",
    "x = data[:,0:2]\n",
    "y = data[:,-1]"
   ]
  },
  {
   "cell_type": "code",
   "execution_count": null,
   "metadata": {
    "collapsed": true
   },
   "outputs": [],
   "source": [
    "# test for pass/fail\n",
    "data = np.array([[2., 0.], [3., 0.], [4., 0.], [5., 1.], [7., 0.], [8., 1.], [9., 1.]], dtype=np.float32)\n",
    "x = data[:,0:1]\n",
    "y = data[:,-1]"
   ]
  },
  {
   "cell_type": "code",
   "execution_count": null,
   "metadata": {
    "collapsed": true
   },
   "outputs": [],
   "source": [
    "def xavier_init(n_inputs, n_outputs, uniform=True):\n",
    "    if uniform:\n",
    "        init_range = tf.sqrt(6.0 / (n_inputs + n_outputs))\n",
    "        return tf.random_uniform_initializer(-init_range, init_range)\n",
    "    else:\n",
    "        stddev = tf.sqrt(3.0 / (n_inputs + n_outputs))\n",
    "        return tf.truncated_normal_initializer(stddev = stddev)"
   ]
  },
  {
   "cell_type": "code",
   "execution_count": null,
   "metadata": {
    "collapsed": false,
    "scrolled": false
   },
   "outputs": [],
   "source": [
    "l1_in = 1\n",
    "l1_out = 4\n",
    "l2_out = 1\n",
    "l3_out = 1\n",
    "#l1_out = 4\n",
    "#l2_out = 4\n",
    "#l3_out = 1\n",
    "\n",
    "init_min = -1.0\n",
    "init_max = 1.0\n",
    "#activation = tf.nn.softplus\n",
    "#activation = tf.nn.elu\n",
    "activation = tf.nn.relu\n",
    "#activation = tf.nn.sigmoid\n",
    "#activation = tf.nn.tanh\n",
    "\n",
    "with tf.name_scope('model'):\n",
    "    X = tf.placeholder(dtype=tf.float32, shape=(l1_in, None), name = 'input')\n",
    "    Y = tf.placeholder(dtype=tf.float32, name = 'target')\n",
    "    with tf.name_scope('hidden1'):\n",
    "        i1 = tf.reshape(X, [l1_in,-1])\n",
    "        W1 = tf.get_variable(\"w_l1\", shape=[l1_out, l1_in], initializer = xavier_init(l1_in, l1_out))\n",
    "        b1 = tf.get_variable(\"b_l1\", shape=[l1_out, ], initializer = xavier_init(l1_out, l1_out))\n",
    "        b1 = tf.reshape(b1, [l1_out, -1])\n",
    "        l1 = activation(tf.matmul(W1, i1) + b1, name = 'o_l1')\n",
    "    with tf.name_scope('hidden2'):\n",
    "        W2 = tf.get_variable(\"w_l2\", shape=[l2_out, l1_out], initializer = xavier_init(l1_out, l2_out))\n",
    "        b2 = tf.get_variable(\"b_l2\", shape=[l2_out, ], initializer = xavier_init(l2_out, l2_out))\n",
    "        b2 = tf.reshape(b2, [l2_out, -1])\n",
    "        #l2 = activation(tf.matmul(W2, l1) + b2, name = 'o_l2') # 2-hidden layer\n",
    "        l2 = tf.matmul(W2, l1) + b2\n",
    "    ''' # 2-hidden layer\n",
    "    with tf.name_scope('hidden3'):\n",
    "        W3 = tf.get_variable(\"w_l3\", shape=[l3_out, l2_out], initializer = xavier_init(l2_out, l3_out))\n",
    "        b3 = tf.get_variable(\"b_l3\", shape=[l3_out, ], initializer = xavier_init(l3_out, l3_out))\n",
    "        l3 = tf.matmul(W3, l2) + b3\n",
    "    '''\n",
    "    with tf.name_scope('output'):\n",
    "        #output = tf.nn.sigmoid(l3) # 2-hidden layer\n",
    "        output = tf.nn.sigmoid(l2)\n",
    "        predict = tf.floor(output + 0.5)"
   ]
  },
  {
   "cell_type": "code",
   "execution_count": null,
   "metadata": {
    "collapsed": false
   },
   "outputs": [],
   "source": [
    "with tf.name_scope('eval'):\n",
    "    #loss = tf.reduce_mean(tf.nn.sigmoid_cross_entropy_with_logits(logits = l3, labels = Y, name = 'loss')) # 2-hidden layer\n",
    "    loss = tf.reduce_mean(tf.nn.sigmoid_cross_entropy_with_logits(logits = l2, labels = Y, name = 'loss'))\n",
    "    opt = tf.train.GradientDescentOptimizer(learning_rate=0.1)\n",
    "    train = opt.minimize(loss)\n",
    "    accuracy = tf.reduce_mean(tf.cast(tf.equal(Y, predict), 'float'))\n",
    "    tf.summary.scalar('accuracy', accuracy)\n",
    "    tf.summary.scalar('loss', loss)"
   ]
  },
  {
   "cell_type": "code",
   "execution_count": null,
   "metadata": {
    "collapsed": true
   },
   "outputs": [],
   "source": [
    "%rm -rf log_dir"
   ]
  },
  {
   "cell_type": "code",
   "execution_count": null,
   "metadata": {
    "collapsed": true
   },
   "outputs": [],
   "source": [
    "writer = tf.summary.FileWriter(\"log_dir\")\n",
    "summary_op = tf.summary.merge_all()\n",
    "\n",
    "sess = tf.InteractiveSession()\n",
    "sess.run(tf.global_variables_initializer())\n",
    "writer.add_graph(sess.graph)"
   ]
  },
  {
   "cell_type": "code",
   "execution_count": null,
   "metadata": {
    "collapsed": false,
    "scrolled": false
   },
   "outputs": [],
   "source": [
    "for step in range(50000):\n",
    "    summary_val, loss_val, _ = sess.run([summary_op, loss, train], feed_dict={X:x.transpose(), Y:y})\n",
    "    \n",
    "    writer.add_summary(summary_val, step)\n",
    "    if (step % 1000 == 0):\n",
    "        print('step:', step, 'loss:', loss_val)\n",
    "w1_val, b1_val, w2_val, b2_val = sess.run([W1, b1, W2, b2])\n",
    "print('w1', w1_val, 'b1', b1_val, 'w2', w2_val, 'b2', b2_val)"
   ]
  },
  {
   "cell_type": "code",
   "execution_count": null,
   "metadata": {
    "collapsed": false
   },
   "outputs": [],
   "source": [
    "print(sess.run(predict, feed_dict={X:x.transpose()}))\n",
    "print(sess.run(accuracy, feed_dict={X:x.transpose(), Y:y}))"
   ]
  },
  {
   "cell_type": "code",
   "execution_count": null,
   "metadata": {
    "collapsed": true
   },
   "outputs": [],
   "source": [
    "sess.close()"
   ]
  },
  {
   "cell_type": "code",
   "execution_count": null,
   "metadata": {
    "collapsed": false
   },
   "outputs": [],
   "source": [
    "#!tensorboard --log=log_dir # tensor board"
   ]
  },
  {
   "cell_type": "code",
   "execution_count": null,
   "metadata": {
    "collapsed": true
   },
   "outputs": [],
   "source": [
    "tf.reset_default_graph()"
   ]
  },
  {
   "cell_type": "markdown",
   "metadata": {},
   "source": [
    "# 결론\n",
    "\n",
    "neuron 4개인 hidden layer 1개 모델로하고 sigmoid, relu 두가지 activation function을 사용해서 데이터를 학습했다.\n",
    "\n",
    "prediction결과 바로 전의 weight sum값인 network output으로 그래프를 그려보면 다음을 알 수 있다.\n",
    "\n",
    "* activation function을 사용하지 않으면 선형 그래프가 그려진다. 따라서 5.0, 7.0, 8.0 지점을 제대로 학습할 방법은 없다.\n",
    "* relu를 사용했을때는 학습 결과에 따라서 그래프에 꺾이는 지점이 생기면서 비선형 데이터를 학습할 수 있게 된다. 예제의 accuracy는 0.857143이다.\n",
    "* sigmoid를 사용하면 5.0과 8.0에서 양수, 7.0에서 음수인 그래프가 만들어진다. 트레이닝 데이터에 잘 피팅했는데, 만약 테스트 데이터가 있었다면 오버피팅 한 것인지도 알 수 있었을 것이다.\n",
    "\n",
    "no activation으로는 선형으로 회귀되지 않는 복잡한 데이터를 학습할 수 없다.\n",
    "\n",
    "\n",
    "## relu 실행 결과(sample)\n",
    "\n",
    "```\n",
    "w1 [[-1.16754508], [-0.99653947], [-0.53801292], [-0.13635476]]\n",
    "b1 [[ 5.52169132], [ 4.71158028], [-0.47386345], [ 0.65750885]]\n",
    "w2 [[-5.15378523, -4.41914129, -0.66349363, -0.62637734]]\n",
    "b2 [[ 1.0973109]]\n",
    "\n",
    "accuracy: 0.857143\n",
    "\n",
    "net = max(-1.16754508x + 5.52169132, 0) * -5.15378523 + max(-0.99653947x + 4.71158028, 0) * -4.41914129 + max(-0.53801292x + -0.47386345, 0) * -0.66349363 + max(-0.13635476x + 0.65750885, 0) * -0.62637734 + 1.0973109\n",
    "\n",
    "output = 1/(1+e^(-(max(-1.16754508x + 5.52169132, 0) * -5.15378523 + max(-0.99653947x + 4.71158028, 0) * -4.41914129 + max(-0.53801292x + -0.47386345, 0) * -0.66349363 + max(-0.13635476x + 0.65750885, 0) * -0.62637734 + 1.0973109)))\n",
    "```\n",
    "\n",
    "## sigmoid 실행 결과(sample)\n",
    "\n",
    "```\n",
    "w1 [[-0.54390049], [-4.1883111 ], [-2.6911881 ], [-1.91450322]]\n",
    "b1 [[  2.90393567], [ 17.9513855 ], [ 20.4703083 ], [ 11.04335976]]\n",
    "w2 [[  3.61458278 -13.50610161 -12.49948788  10.69765663]]\n",
    "b2 [[ 5.68671894]]\n",
    "\n",
    "accuracy: 1.0\n",
    "\n",
    "net = 1/(1+e^(-(-0.54390049x+ 2.90393567))) * 3.61458278 + 1/(1+e^(-(-4.1883111x+ 17.9513855))) * -13.50610161 + 1/(1+e^(-(-2.6911881x+ 20.4703083))) * -12.49948788 + 1/(1+e^(-(-1.91450322x+ 11.04335976))) * 10.69765663 + 5.68671894\n",
    "\n",
    "output = 1/(1+e^(-(1/(1+e^(-(-0.54390049x+ 2.90393567))) * 3.61458278 + 1/(1+e^(-(-4.1883111x+ 17.9513855))) * -13.50610161 + 1/(1+e^(-(-2.6911881x+ 20.4703083))) * -12.49948788 + 1/(1+e^(-(-1.91450322x+ 11.04335976))) * 10.69765663 + 5.68671894)))\n",
    "```\n"
   ]
  },
  {
   "cell_type": "code",
   "execution_count": null,
   "metadata": {
    "collapsed": true
   },
   "outputs": [],
   "source": []
  }
 ],
 "metadata": {
  "kernelspec": {
   "display_name": "Python 3",
   "language": "python",
   "name": "python3"
  },
  "language_info": {
   "codemirror_mode": {
    "name": "ipython",
    "version": 3
   },
   "file_extension": ".py",
   "mimetype": "text/x-python",
   "name": "python",
   "nbconvert_exporter": "python",
   "pygments_lexer": "ipython3",
   "version": "3.6.0"
  }
 },
 "nbformat": 4,
 "nbformat_minor": 0
}
