{
 "cells": [
  {
   "cell_type": "markdown",
   "metadata": {},
   "source": [
    "rnn ptb model\n",
    "from https://github.com/rickiepark/first-steps-with-tensorflow/blob/master/rnn_ptb/ptb_word.ipynb"
   ]
  },
  {
   "cell_type": "code",
   "execution_count": null,
   "metadata": {
    "collapsed": true
   },
   "outputs": [],
   "source": [
    "import time\n",
    "\n",
    "import numpy as np\n",
    "import tensorflow as tf\n",
    "\n",
    "from tensorflow.models.rnn.ptb import reader\n",
    "import reader"
   ]
  },
  {
   "cell_type": "code",
   "execution_count": null,
   "metadata": {
    "collapsed": true
   },
   "outputs": [],
   "source": [
    "class SmallConfig(object):\n",
    "    \"\"\"Small config.\"\"\"\n",
    "    init_scale = 0.1\n",
    "    learning_rate = 1.0\n",
    "    max_grad_norm = 5\n",
    "    num_layers = 2\n",
    "    num_steps = 20\n",
    "    hidden_size = 200\n",
    "    max_epoch = 4\n",
    "    max_max_epoch = 3\n",
    "    #max_max_epoch = 13\n",
    "    keep_prob = 1.0\n",
    "    lr_decay = 0.5\n",
    "    batch_size = 30\n",
    "    #batch_size = 20\n",
    "    vocab_size = 10000"
   ]
  },
  {
   "cell_type": "code",
   "execution_count": null,
   "metadata": {
    "collapsed": true
   },
   "outputs": [],
   "source": [
    "config = SmallConfig()\n",
    "eval_config = SmallConfig()\n",
    "eval_config.batch_size = 1\n",
    "eval_config.num_steps = 1"
   ]
  },
  {
   "cell_type": "code",
   "execution_count": null,
   "metadata": {
    "collapsed": true
   },
   "outputs": [],
   "source": [
    "class PTBModel(object):\n",
    "    \"\"\"The PTB model.\"\"\"\n",
    "\n",
    "    def __init__(self, config, is_training=False):\n",
    "        self.batch_size = config.batch_size\n",
    "        self.num_steps = config.num_steps\n",
    "        input_size = [config.batch_size, config.num_steps]\n",
    "        self.input_data = tf.placeholder(tf.int32, input_size)\n",
    "        self.targets = tf.placeholder(tf.int32, input_size)\n",
    "\n",
    "        lstm_cell = tf.nn.rnn_cell.BasicLSTMCell(config.hidden_size, forget_bias=0.0, state_is_tuple=True)\n",
    "        # SmallConfig에서는 드롭아웃이 적용되지 않습니다.\n",
    "        if is_training and config.keep_prob < 1:\n",
    "            lstm_cell = DropoutWrapper(lstm_cell, config.keep_prob)\n",
    "        # 두개의 계층을 가진 신경망 구조를 만듭니다.\n",
    "        cell = tf.nn.rnn_cell.MultiRNNCell([lstm_cell] * config.num_layers, state_is_tuple=True)\n",
    "\n",
    "        self.initial_state = cell.zero_state(config.batch_size, tf.float32)\n",
    "\n",
    "        with tf.device(\"/cpu:0\"):\n",
    "            embedding_size = [config.vocab_size, config.hidden_size]\n",
    "            embedding = tf.get_variable(\"embedding\", embedding_size)\n",
    "            inputs = tf.nn.embedding_lookup(embedding, self.input_data)\n",
    "\n",
    "        # SmallConfig에서는 드롭아웃이 적용되지 않습니다.\n",
    "        if is_training and config.keep_prob < 1:\n",
    "            inputs = tf.nn.dropout(inputs, config.keep_prob)\n",
    "\n",
    "        # 각 배치마다 순서대로 데이터를 뽑아 셀에 입력합니다. \n",
    "        outputs = []\n",
    "        state = self.initial_state\n",
    "        with tf.variable_scope(\"RNN\"):\n",
    "            for time_step in range(config.num_steps):\n",
    "                if time_step > 0: tf.get_variable_scope().reuse_variables()\n",
    "                (cell_output, state) = cell(inputs[:, time_step, :], state)\n",
    "                outputs.append(cell_output)\n",
    "\n",
    "        # output의 크기를 20x20x200에서 400x200으로 변경합니다.\n",
    "        output = tf.reshape(tf.concat(1, outputs), [-1, config.hidden_size])\n",
    "        softmax_w_size = [config.hidden_size, config.vocab_size]\n",
    "        softmax_w = tf.get_variable(\"softmax_w\", softmax_w_size)\n",
    "        softmax_b = tf.get_variable(\"softmax_b\", [config.vocab_size])\n",
    "        # logits의 크기는 400x10000이 됩니다.\n",
    "        logits = tf.matmul(output, softmax_w) + softmax_b\n",
    "    \n",
    "        loss = tf.nn.seq2seq.sequence_loss_by_example(\n",
    "            [logits],\n",
    "            [tf.reshape(self.targets, [-1])],\n",
    "            [tf.ones([config.batch_size * config.num_steps])])\n",
    "        self.cost = tf.reduce_sum(loss) / config.batch_size\n",
    "        self.final_state = state\n",
    "\n",
    "        if not is_training:\n",
    "            return\n",
    "\n",
    "        self.lr = tf.Variable(0.0, trainable=False)\n",
    "        tvars = tf.trainable_variables()\n",
    "        # 기울기 클리핑을 수행합니다.\n",
    "        grads, _ = tf.clip_by_global_norm(tf.gradients(self.cost, tvars),\n",
    "                                          config.max_grad_norm)\n",
    "        optimizer = tf.train.GradientDescentOptimizer(self.lr)\n",
    "        self.train_op = optimizer.apply_gradients(zip(grads, tvars))\n",
    "\n",
    "    def assign_lr(self, session, lr_value):\n",
    "        session.run(tf.assign(self.lr, lr_value))\n"
   ]
  },
  {
   "cell_type": "code",
   "execution_count": null,
   "metadata": {
    "collapsed": true
   },
   "outputs": [],
   "source": [
    "def run_epoch(session, m, data, is_training=False):\n",
    "    \"\"\"Runs the model on the given data.\"\"\"\n",
    "    epoch_size = ((len(data) // m.batch_size) - 1) // m.num_steps\n",
    "    start_time = time.time()\n",
    "    costs = 0.0\n",
    "    iters = 0\n",
    "    \n",
    "    eval_op = m.train_op if is_training else tf.no_op()\n",
    "    \n",
    "    # initial_state는 2x20x200 크기의 튜플입니다.\n",
    "    state_list = []\n",
    "    for c, h in m.initial_state:\n",
    "        state_list.extend([c.eval(), h.eval()])\n",
    "    \n",
    "    ptb_iter = reader.ptb_iterator(data, m.batch_size, m.num_steps)\n",
    "    for step, (x, y) in enumerate(ptb_iter):\n",
    "        fetch_list = [m.cost]\n",
    "        # final_state 튜플에 담겨있는 상태를 꺼내어 fetch_list에 담습니다. \n",
    "        for c, h in m.final_state:\n",
    "            fetch_list.extend([c, h])\n",
    "        fetch_list.append(eval_op)\n",
    "        \n",
    "        # 이전 스텝에서 구해진 state_list가 feed_dict로 주입됩니다.\n",
    "        feed_dict = {m.input_data: x, m.targets: y}\n",
    "        for i in range(len(m.initial_state)):\n",
    "            c, h = m.initial_state[i]\n",
    "            feed_dict[c], feed_dict[h] = state_list[i*2:(i+1)*2]\n",
    "        \n",
    "        # fetch_list에 담긴 final_state의 결과를 state_list로 전달 받습니다.\n",
    "        cost, *state_list, _ = session.run(fetch_list, feed_dict)\n",
    "\n",
    "        costs += cost\n",
    "        iters += m.num_steps\n",
    "\n",
    "        if is_training and step % (epoch_size // 10) == 10:\n",
    "            print(\"%.3f perplexity: %.3f speed: %.0f wps\" %\n",
    "                    (step * 1.0 / epoch_size, np.exp(costs / iters),\n",
    "                     iters * m.batch_size / (time.time() - start_time)))\n",
    "\n",
    "    return np.exp(costs / iters)"
   ]
  },
  {
   "cell_type": "code",
   "execution_count": null,
   "metadata": {
    "collapsed": false
   },
   "outputs": [],
   "source": [
    "raw_data = reader.ptb_raw_data('simple-examples/data')\n",
    "train_data, valid_data, test_data, _ = raw_data\n",
    "\n",
    "train_data = train_data[:int(len(train_data)/20)]\n"
   ]
  },
  {
   "cell_type": "code",
   "execution_count": null,
   "metadata": {
    "collapsed": false,
    "scrolled": false
   },
   "outputs": [],
   "source": [
    "with tf.Graph().as_default(), tf.Session() as session:\n",
    "    initializer = tf.random_uniform_initializer(-config.init_scale, config.init_scale)\n",
    "\n",
    "    # 학습과 검증, 테스트를 위한 모델을 만듭니다.\n",
    "    with tf.variable_scope(\"model\", reuse=None, initializer=initializer):\n",
    "        m = PTBModel(config, is_training=True)\n",
    "    with tf.variable_scope(\"model\", reuse=True, initializer=initializer):\n",
    "        mvalid = PTBModel(config)\n",
    "        mtest = PTBModel(eval_config)\n",
    "        \n",
    "    tf.global_variables_initializer().run()\n",
    "    \n",
    "    for i in range(config.max_max_epoch):\n",
    "        # lr_decay는 반복속도를 조절해 주는 역할을 합니다.\n",
    "        lr_decay = config.lr_decay ** max(i - config.max_epoch, 0.0)\n",
    "        m.assign_lr(session, config.learning_rate * lr_decay)\n",
    "        print(\"Epoch: %d Learning rate: %.3f\" % (i + 1, session.run(m.lr)))\n",
    "        \n",
    "        perplexity = run_epoch(session, m, train_data, is_training=True)\n",
    "        print(\"Epoch: %d Train Perplexity: %.3f\" % (i + 1, perplexity))\n",
    "\n",
    "        perplexity = run_epoch(session, mvalid, valid_data)\n",
    "        print(\"Epoch: %d Valid Perplexity: %.3f\" % (i + 1, perplexity))\n",
    "\n",
    "    perplexity = run_epoch(session, mtest, test_data)\n",
    "    print(\"Test Perplexity: %.3f\" % perplexity)"
   ]
  },
  {
   "cell_type": "code",
   "execution_count": null,
   "metadata": {
    "collapsed": true
   },
   "outputs": [],
   "source": []
  }
 ],
 "metadata": {
  "kernelspec": {
   "display_name": "Python 3",
   "language": "python",
   "name": "python3"
  },
  "language_info": {
   "codemirror_mode": {
    "name": "ipython",
    "version": 3
   },
   "file_extension": ".py",
   "mimetype": "text/x-python",
   "name": "python",
   "nbconvert_exporter": "python",
   "pygments_lexer": "ipython3",
   "version": "3.5.2"
  }
 },
 "nbformat": 4,
 "nbformat_minor": 2
}
